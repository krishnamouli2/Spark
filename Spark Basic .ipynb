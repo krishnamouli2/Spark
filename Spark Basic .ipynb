{
 "cells": [
  {
   "cell_type": "markdown",
   "id": "700dfcd7",
   "metadata": {},
   "source": [
    "### Create SparkSession\n",
    "In order to create SparkSession programmatically( in .py file) in PySpark, you need to use the builder pattern method builder() as explained below. getOrCreate() method returns an already existing SparkSession; if not exists, it creates a new SparkSession.\n",
    "\n",
    "master() – If you are running it on the cluster you need to use your master name as an argument to master(). usually, it would be either yarn or mesos depends on your cluster setup.\n",
    "\n",
    "Use local[x] when running in Standalone mode. x should be an integer value and should be greater than 0; this represents how many partitions it should create when using RDD, DataFrame, and Dataset. Ideally, x value should be the number of CPU cores you have.\n",
    "appName() – Used to set your application name.\n",
    "\n",
    "getOrCreate() – This returns a SparkSession object if already exists, creates new one if not exists."
   ]
  },
  {
   "cell_type": "code",
   "execution_count": 1,
   "id": "4fc67fd3",
   "metadata": {},
   "outputs": [],
   "source": [
    "import findspark\n",
    "findspark.init(\"C:\\spark\\spark-2.4.8-bin-hadoop2.7\") \n",
    "\n",
    "import pyspark\n",
    "\n",
    "from pyspark.sql import SparkSession\n",
    "spark = SparkSession.builder.master(\"local[1]\") \\\n",
    "                    .appName('spark_basic') \\\n",
    "                    .getOrCreate()"
   ]
  },
  {
   "cell_type": "code",
   "execution_count": 2,
   "id": "62bd27cb",
   "metadata": {},
   "outputs": [
    {
     "data": {
      "text/html": [
       "\n",
       "            <div>\n",
       "                <p><b>SparkSession - in-memory</b></p>\n",
       "                \n",
       "        <div>\n",
       "            <p><b>SparkContext</b></p>\n",
       "\n",
       "            <p><a href=\"http://DESKTOP-HJ7UURF:4041\">Spark UI</a></p>\n",
       "\n",
       "            <dl>\n",
       "              <dt>Version</dt>\n",
       "                <dd><code>v2.4.8</code></dd>\n",
       "              <dt>Master</dt>\n",
       "                <dd><code>local[1]</code></dd>\n",
       "              <dt>AppName</dt>\n",
       "                <dd><code>spark_basic</code></dd>\n",
       "            </dl>\n",
       "        </div>\n",
       "        \n",
       "            </div>\n",
       "        "
      ],
      "text/plain": [
       "<pyspark.sql.session.SparkSession at 0x1eb0d7e54c8>"
      ]
     },
     "execution_count": 2,
     "metadata": {},
     "output_type": "execute_result"
    }
   ],
   "source": [
    "spark"
   ]
  },
  {
   "cell_type": "markdown",
   "id": "68ce675e",
   "metadata": {},
   "source": [
    "### PySpark RDD – Resilient Distributed Dataset\n",
    "In this section of the PySpark tutorial, I will introduce the RDD and explains how to create them and use its transformation and action operations with examples. Here is the full article on PySpark RDD in case if you wanted to learn more of and get your fundamentals strong.\n",
    "\n",
    "PySpark RDD (Resilient Distributed Dataset) is a fundamental data structure of PySpark that is fault-tolerant, immutable distributed collections of objects, which means once you create an RDD you cannot change it. Each dataset in RDD is divided into logical partitions, which can be computed on different nodes of the cluster.\n",
    "\n",
    "RDD Creation \n",
    "In order to create an RDD, first, you need to create a SparkSession which is an entry point to the PySpark application. SparkSession can be created using a builder() or newSession() methods of the SparkSession.\n",
    "\n",
    "Spark session internally creates a sparkContext variable of SparkContext. You can create multiple SparkSession objects but only one SparkContext per JVM. In case if you want to create another new SparkContext you should stop existing Sparkcontext (using stop()) before creating a new one\n",
    "\n",
    "#### using parallelize()\n",
    "SparkContext has several functions to use with RDDs. For example, it’s parallelize() method is used to create an RDD from a list.\n",
    "\n"
   ]
  },
  {
   "cell_type": "code",
   "execution_count": 3,
   "id": "9491af43",
   "metadata": {},
   "outputs": [],
   "source": [
    "dataList = [(\"sales_1\", 20000), (\"sales_2\", 100000), (\"sales_3\", 3000)]\n",
    "rdd=spark.sparkContext.parallelize(dataList)"
   ]
  },
  {
   "cell_type": "code",
   "execution_count": 4,
   "id": "214f644b",
   "metadata": {},
   "outputs": [
    {
     "data": {
      "text/plain": [
       "(list, pyspark.rdd.RDD)"
      ]
     },
     "execution_count": 4,
     "metadata": {},
     "output_type": "execute_result"
    }
   ],
   "source": [
    "type(dataList),type(rdd)"
   ]
  },
  {
   "cell_type": "markdown",
   "id": "d9b6cb2b",
   "metadata": {},
   "source": [
    "**RDD Transformations**    \n",
    "Transformations on Spark RDD returns another RDD and transformations are lazy meaning they don’t execute until you call an action on RDD. Some transformations on RDD’s are flatMap(), map(), reduceByKey(), filter(), sortByKey() and return new RDD instead of updating the current.\n",
    "\n",
    "**RDD Actions**    \n",
    "RDD Action operation returns the values from an RDD to a driver node. In other words, any RDD function that returns non RDD[T] is considered as an action. \n",
    "\n",
    "Some actions on RDD’s are count(), collect(), first(), max(), reduce() and more."
   ]
  },
  {
   "cell_type": "code",
   "execution_count": 5,
   "id": "3d8e6c46",
   "metadata": {},
   "outputs": [
    {
     "data": {
      "text/plain": [
       "3"
      ]
     },
     "execution_count": 5,
     "metadata": {},
     "output_type": "execute_result"
    }
   ],
   "source": [
    "rdd."
   ]
  },
  {
   "cell_type": "markdown",
   "id": "1003c5d8",
   "metadata": {},
   "source": [
    "#### using textFile()    \n",
    "RDD can also be created from a text file using textFile() function of the SparkContext."
   ]
  },
  {
   "cell_type": "code",
   "execution_count": null,
   "id": "a1cdc020",
   "metadata": {},
   "outputs": [],
   "source": [
    "rdd2 = spark.sparkContext.textFile(\"sample.txt\")"
   ]
  },
  {
   "cell_type": "code",
   "execution_count": null,
   "id": "42a6796c",
   "metadata": {},
   "outputs": [],
   "source": [
    "rdd2.count()"
   ]
  },
  {
   "cell_type": "code",
   "execution_count": null,
   "id": "dfb0ddfb",
   "metadata": {},
   "outputs": [],
   "source": [
    "rdd2.collect()"
   ]
  },
  {
   "cell_type": "markdown",
   "id": "4d6064b4",
   "metadata": {},
   "source": [
    "#### PySpark DataFrame\n",
    "\n",
    "PySpark DataFrame is mostly similar to Pandas DataFrame with exception PySpark DataFrames are distributed in the cluster (meaning the data in DataFrame’s are stored in different machines in a cluster) and any operations in PySpark executes in parallel on all machines whereas Panda Dataframe stores and operates on a single machine."
   ]
  },
  {
   "cell_type": "markdown",
   "id": "dbf5e7ab",
   "metadata": {},
   "source": [
    "### using createDataFrame()"
   ]
  },
  {
   "cell_type": "code",
   "execution_count": 3,
   "id": "edc4aaea",
   "metadata": {},
   "outputs": [],
   "source": [
    "data = [('James','','Smith','1991-04-01','M',3000),\n",
    "  ('Michael','Rose','','2000-05-19','M',4000),\n",
    "  ('Robert','','Williams','1978-09-05','M',4000),\n",
    "  ('Maria','Anne','Jones','1967-12-01','F',4000),\n",
    "  ('Jen','Mary','Brown','1980-02-17','F',-1)\n",
    "]\n",
    "\n",
    "columns = [\"firstname\",\"middlename\",\"lastname\",\"dob\",\"gender\",\"salary\"]\n",
    "df = spark.createDataFrame(data=data, schema = columns)"
   ]
  },
  {
   "cell_type": "code",
   "execution_count": 4,
   "id": "8e27b3d9",
   "metadata": {},
   "outputs": [
    {
     "name": "stdout",
     "output_type": "stream",
     "text": [
      "root\n",
      " |-- firstname: string (nullable = true)\n",
      " |-- middlename: string (nullable = true)\n",
      " |-- lastname: string (nullable = true)\n",
      " |-- dob: string (nullable = true)\n",
      " |-- gender: string (nullable = true)\n",
      " |-- salary: long (nullable = true)\n",
      "\n"
     ]
    }
   ],
   "source": [
    "df.printSchema()"
   ]
  },
  {
   "cell_type": "markdown",
   "id": "03fc4436",
   "metadata": {},
   "source": [
    "#### shows the 20 elements from the DataFrame."
   ]
  },
  {
   "cell_type": "code",
   "execution_count": 5,
   "id": "aa06bf6a",
   "metadata": {},
   "outputs": [
    {
     "name": "stdout",
     "output_type": "stream",
     "text": [
      "+---------+----------+--------+----------+------+------+\n",
      "|firstname|middlename|lastname|       dob|gender|salary|\n",
      "+---------+----------+--------+----------+------+------+\n",
      "|    James|          |   Smith|1991-04-01|     M|  3000|\n",
      "|  Michael|      Rose|        |2000-05-19|     M|  4000|\n",
      "|   Robert|          |Williams|1978-09-05|     M|  4000|\n",
      "|    Maria|      Anne|   Jones|1967-12-01|     F|  4000|\n",
      "|      Jen|      Mary|   Brown|1980-02-17|     F|    -1|\n",
      "+---------+----------+--------+----------+------+------+\n",
      "\n"
     ]
    }
   ],
   "source": [
    "df.show()"
   ]
  },
  {
   "cell_type": "code",
   "execution_count": 6,
   "id": "be748206",
   "metadata": {},
   "outputs": [
    {
     "name": "stdout",
     "output_type": "stream",
     "text": [
      "+-------+---------+----------+--------+----------+------+------------------+\n",
      "|summary|firstname|middlename|lastname|       dob|gender|            salary|\n",
      "+-------+---------+----------+--------+----------+------+------------------+\n",
      "|  count|        5|         5|       5|         5|     5|                 5|\n",
      "|   mean|     null|      null|    null|      null|  null|            2999.8|\n",
      "| stddev|     null|      null|    null|      null|  null|1732.4838238783068|\n",
      "|    min|    James|          |        |1967-12-01|     F|                -1|\n",
      "|    25%|     null|      null|    null|      null|  null|              3000|\n",
      "|    50%|     null|      null|    null|      null|  null|              4000|\n",
      "|    75%|     null|      null|    null|      null|  null|              4000|\n",
      "|    max|   Robert|      Rose|Williams|2000-05-19|     M|              4000|\n",
      "+-------+---------+----------+--------+----------+------+------------------+\n",
      "\n"
     ]
    }
   ],
   "source": [
    "df.summary().show()"
   ]
  },
  {
   "cell_type": "markdown",
   "id": "cb0d43b2",
   "metadata": {},
   "source": [
    "#### Lets read the csv file now using spark.read.csv."
   ]
  },
  {
   "cell_type": "code",
   "execution_count": 3,
   "id": "e39b21a1",
   "metadata": {},
   "outputs": [],
   "source": [
    "datadf = spark.read.csv('adult_data.csv',header=True)"
   ]
  },
  {
   "cell_type": "code",
   "execution_count": 8,
   "id": "e5ab3892",
   "metadata": {},
   "outputs": [
    {
     "name": "stdout",
     "output_type": "stream",
     "text": [
      "+---+---+---------+------+------------+---------------+------------------+-----------------+------------+-----+------+------------+------------+--------------+--------------+------+\n",
      "|  x|age|workclass|fnlwgt|   education|educational-num|    marital-status|       occupation|relationship| race|gender|capital-gain|capital-loss|hours-per-week|native-country|income|\n",
      "+---+---+---------+------+------------+---------------+------------------+-----------------+------------+-----+------+------------+------------+--------------+--------------+------+\n",
      "|  1| 25|  Private|226802|        11th|              7|     Never-married|Machine-op-inspct|   Own-child|Black|  Male|           0|           0|            40| United-States| <=50K|\n",
      "|  2| 38|  Private| 89814|     HS-grad|              9|Married-civ-spouse|  Farming-fishing|     Husband|White|  Male|           0|           0|            50| United-States| <=50K|\n",
      "|  3| 28|Local-gov|336951|  Assoc-acdm|             12|Married-civ-spouse|  Protective-serv|     Husband|White|  Male|           0|           0|            40| United-States|  >50K|\n",
      "|  4| 44|  Private|160323|Some-college|             10|Married-civ-spouse|Machine-op-inspct|     Husband|Black|  Male|        7688|           0|            40| United-States|  >50K|\n",
      "|  5| 18|        ?|103497|Some-college|             10|     Never-married|                ?|   Own-child|White|Female|           0|           0|            30| United-States| <=50K|\n",
      "+---+---+---------+------+------------+---------------+------------------+-----------------+------------+-----+------+------------+------------+--------------+--------------+------+\n",
      "only showing top 5 rows\n",
      "\n"
     ]
    }
   ],
   "source": [
    "df.show(5)"
   ]
  },
  {
   "cell_type": "code",
   "execution_count": 12,
   "id": "8298b46a",
   "metadata": {},
   "outputs": [
    {
     "name": "stdout",
     "output_type": "stream",
     "text": [
      "number of rows:  48842\n"
     ]
    }
   ],
   "source": [
    "num_rows = datadf.count()\n",
    "print(\"number of rows: \", num_rows)"
   ]
  },
  {
   "cell_type": "markdown",
   "id": "fba8a1e5",
   "metadata": {},
   "source": [
    "#### show our dataFrame schema"
   ]
  },
  {
   "cell_type": "code",
   "execution_count": 13,
   "id": "201d1516",
   "metadata": {},
   "outputs": [
    {
     "name": "stdout",
     "output_type": "stream",
     "text": [
      "root\n",
      " |-- x: string (nullable = true)\n",
      " |-- age: string (nullable = true)\n",
      " |-- workclass: string (nullable = true)\n",
      " |-- fnlwgt: string (nullable = true)\n",
      " |-- education: string (nullable = true)\n",
      " |-- educational-num: string (nullable = true)\n",
      " |-- marital-status: string (nullable = true)\n",
      " |-- occupation: string (nullable = true)\n",
      " |-- relationship: string (nullable = true)\n",
      " |-- race: string (nullable = true)\n",
      " |-- gender: string (nullable = true)\n",
      " |-- capital-gain: string (nullable = true)\n",
      " |-- capital-loss: string (nullable = true)\n",
      " |-- hours-per-week: string (nullable = true)\n",
      " |-- native-country: string (nullable = true)\n",
      " |-- income: string (nullable = true)\n",
      "\n"
     ]
    }
   ],
   "source": [
    "datadf.printSchema()"
   ]
  },
  {
   "cell_type": "markdown",
   "id": "b81475ba",
   "metadata": {},
   "source": [
    "#### Pyspark data stats"
   ]
  },
  {
   "cell_type": "code",
   "execution_count": 14,
   "id": "035ec0f4",
   "metadata": {},
   "outputs": [
    {
     "name": "stdout",
     "output_type": "stream",
     "text": [
      "+-------+------------------+\n",
      "|summary|               age|\n",
      "+-------+------------------+\n",
      "|  count|             48842|\n",
      "|   mean| 38.64358543876172|\n",
      "| stddev|13.710509934443472|\n",
      "|    min|                17|\n",
      "|    max|                90|\n",
      "+-------+------------------+\n",
      "\n"
     ]
    }
   ],
   "source": [
    "datadf.describe('age').show()"
   ]
  },
  {
   "cell_type": "code",
   "execution_count": 16,
   "id": "45352188",
   "metadata": {},
   "outputs": [
    {
     "name": "stdout",
     "output_type": "stream",
     "text": [
      "+-------+-----------+\n",
      "|summary|  workclass|\n",
      "+-------+-----------+\n",
      "|  count|      48842|\n",
      "|   mean|       null|\n",
      "| stddev|       null|\n",
      "|    min|          ?|\n",
      "|    max|Without-pay|\n",
      "+-------+-----------+\n",
      "\n"
     ]
    }
   ],
   "source": [
    "datadf.describe('workclass').show()"
   ]
  },
  {
   "cell_type": "code",
   "execution_count": 17,
   "id": "d3852187",
   "metadata": {},
   "outputs": [
    {
     "data": {
      "text/plain": [
       "[('x', 'string'),\n",
       " ('age', 'string'),\n",
       " ('workclass', 'string'),\n",
       " ('fnlwgt', 'string'),\n",
       " ('education', 'string'),\n",
       " ('educational-num', 'string'),\n",
       " ('marital-status', 'string'),\n",
       " ('occupation', 'string'),\n",
       " ('relationship', 'string'),\n",
       " ('race', 'string'),\n",
       " ('gender', 'string'),\n",
       " ('capital-gain', 'string'),\n",
       " ('capital-loss', 'string'),\n",
       " ('hours-per-week', 'string'),\n",
       " ('native-country', 'string'),\n",
       " ('income', 'string')]"
      ]
     },
     "execution_count": 17,
     "metadata": {},
     "output_type": "execute_result"
    }
   ],
   "source": [
    "datadf.dtypes"
   ]
  },
  {
   "cell_type": "code",
   "execution_count": 4,
   "id": "4452aaed",
   "metadata": {
    "scrolled": false
   },
   "outputs": [
    {
     "name": "stdout",
     "output_type": "stream",
     "text": [
      "+---+---+---------+------+------------+---------------+------------------+----------+-------------+-----+------+------------+------------+--------------+--------------+------+\n",
      "|  x|age|workclass|fnlwgt|   education|educational-num|    marital-status|occupation| relationship| race|gender|capital-gain|capital-loss|hours-per-week|native-country|income|\n",
      "+---+---+---------+------+------------+---------------+------------------+----------+-------------+-----+------+------------+------------+--------------+--------------+------+\n",
      "|  5| 18|        ?|103497|Some-college|             10|     Never-married|         ?|    Own-child|White|Female|           0|           0|            30| United-States| <=50K|\n",
      "|  7| 29|        ?|227026|     HS-grad|              9|     Never-married|         ?|    Unmarried|Black|  Male|           0|           0|            40| United-States| <=50K|\n",
      "| 14| 58|        ?|299831|     HS-grad|              9|Married-civ-spouse|         ?|      Husband|White|  Male|           0|           0|            35| United-States| <=50K|\n",
      "| 23| 72|        ?|132015|     7th-8th|              4|          Divorced|         ?|Not-in-family|White|Female|           0|           0|             6| United-States| <=50K|\n",
      "| 36| 65|        ?|191846|     HS-grad|              9|Married-civ-spouse|         ?|      Husband|White|  Male|           0|           0|            40| United-States| <=50K|\n",
      "+---+---+---------+------+------------+---------------+------------------+----------+-------------+-----+------+------------+------------+--------------+--------------+------+\n",
      "only showing top 5 rows\n",
      "\n"
     ]
    }
   ],
   "source": [
    "null_values=datadf.filter(datadf.workclass==\"?\")\n",
    "null_values.show(5)"
   ]
  },
  {
   "cell_type": "code",
   "execution_count": null,
   "id": "b1cc6bf6",
   "metadata": {},
   "outputs": [],
   "source": [
    "null_values_1=datadf.filter(datadf.workclass==\"?\")\n",
    "null_values_1.show(5)"
   ]
  },
  {
   "cell_type": "code",
   "execution_count": 19,
   "id": "85f0e818",
   "metadata": {},
   "outputs": [
    {
     "data": {
      "text/plain": [
       "2799"
      ]
     },
     "execution_count": 19,
     "metadata": {},
     "output_type": "execute_result"
    }
   ],
   "source": [
    "null_values.count()"
   ]
  },
  {
   "cell_type": "code",
   "execution_count": 5,
   "id": "5178ffd0",
   "metadata": {},
   "outputs": [
    {
     "name": "stdout",
     "output_type": "stream",
     "text": [
      "+---+-----+---------+------+------------+---------------+------------------+-----------------+------------+-----+------+------------+------------+--------------+--------------+------+\n",
      "|  x|  age|workclass|fnlwgt|   education|educational-num|    marital-status|       occupation|relationship| race|gender|capital-gain|capital-loss|hours-per-week|native-country|income|\n",
      "+---+-----+---------+------+------------+---------------+------------------+-----------------+------------+-----+------+------------+------------+--------------+--------------+------+\n",
      "|  1|125.0|  Private|226802|        11th|              7|     Never-married|Machine-op-inspct|   Own-child|Black|  Male|           0|           0|            40| United-States| <=50K|\n",
      "|  2|138.0|  Private| 89814|     HS-grad|              9|Married-civ-spouse|  Farming-fishing|     Husband|White|  Male|           0|           0|            50| United-States| <=50K|\n",
      "|  3|128.0|Local-gov|336951|  Assoc-acdm|             12|Married-civ-spouse|  Protective-serv|     Husband|White|  Male|           0|           0|            40| United-States|  >50K|\n",
      "|  4|144.0|  Private|160323|Some-college|             10|Married-civ-spouse|Machine-op-inspct|     Husband|Black|  Male|        7688|           0|            40| United-States|  >50K|\n",
      "|  5|118.0|        ?|103497|Some-college|             10|     Never-married|                ?|   Own-child|White|Female|           0|           0|            30| United-States| <=50K|\n",
      "+---+-----+---------+------+------------+---------------+------------------+-----------------+------------+-----+------+------------+------------+--------------+--------------+------+\n",
      "only showing top 5 rows\n",
      "\n"
     ]
    }
   ],
   "source": [
    "datadf.withColumn('age',datadf.age+100).show(5)"
   ]
  },
  {
   "cell_type": "code",
   "execution_count": 6,
   "id": "afbf29bf",
   "metadata": {},
   "outputs": [],
   "source": [
    "from pyspark.sql.functions import when\n",
    "import numpy as np\n",
    "df2=datadf.withColumn('workclass',when(datadf[\"workclass\"] == '?', np.NaN).otherwise(datadf[\"workclass\"]))"
   ]
  },
  {
   "cell_type": "code",
   "execution_count": null,
   "id": "ca56ccb3",
   "metadata": {
    "scrolled": true
   },
   "outputs": [],
   "source": [
    "df2.show()"
   ]
  },
  {
   "cell_type": "code",
   "execution_count": null,
   "id": "4f1cf110",
   "metadata": {},
   "outputs": [],
   "source": []
  },
  {
   "cell_type": "code",
   "execution_count": 7,
   "id": "74ab4b23",
   "metadata": {},
   "outputs": [
    {
     "name": "stdout",
     "output_type": "stream",
     "text": [
      "+---+---+---------+------+------------+---------------+------------------+-----------------+------------+-----+------+------------+------------+--------------+--------------+------+\n",
      "|  x|age|workclass|fnlwgt|   education|educational-num|    marital-status|       occupation|relationship| race|gender|capital-gain|capital-loss|hours-per-week|native-country|income|\n",
      "+---+---+---------+------+------------+---------------+------------------+-----------------+------------+-----+------+------------+------------+--------------+--------------+------+\n",
      "|  1| 25|  Private|226802|        11th|              7|     Never-married|Machine-op-inspct|   Own-child|Black|  Male|           0|           0|            40| United-States| <=50K|\n",
      "|  2| 38|  Private| 89814|     HS-grad|              9|Married-civ-spouse|  Farming-fishing|     Husband|White|  Male|           0|           0|            50| United-States| <=50K|\n",
      "|  3| 28|Local-gov|336951|  Assoc-acdm|             12|Married-civ-spouse|  Protective-serv|     Husband|White|  Male|           0|           0|            40| United-States|  >50K|\n",
      "|  4| 44|  Private|160323|Some-college|             10|Married-civ-spouse|Machine-op-inspct|     Husband|Black|  Male|        7688|           0|            40| United-States|  >50K|\n",
      "|  5| 18|  Private|103497|Some-college|             10|     Never-married|                ?|   Own-child|White|Female|           0|           0|            30| United-States| <=50K|\n",
      "+---+---+---------+------+------------+---------------+------------------+-----------------+------------+-----+------+------------+------------+--------------+--------------+------+\n",
      "only showing top 5 rows\n",
      "\n"
     ]
    }
   ],
   "source": [
    "df2_exp=datadf.withColumn('workclass',when(datadf[\"workclass\"] == '?', 'Private').otherwise(datadf[\"workclass\"]))\n",
    "df2_exp.show(5)"
   ]
  },
  {
   "cell_type": "code",
   "execution_count": null,
   "id": "56b60559",
   "metadata": {},
   "outputs": [],
   "source": [
    "type(np.array(df2))"
   ]
  },
  {
   "cell_type": "code",
   "execution_count": null,
   "id": "c76ba7f7",
   "metadata": {},
   "outputs": [],
   "source": [
    "df2.show()"
   ]
  },
  {
   "cell_type": "code",
   "execution_count": 8,
   "id": "a332f9b4",
   "metadata": {},
   "outputs": [
    {
     "name": "stdout",
     "output_type": "stream",
     "text": [
      "+---+---+---------+------+------------+---------------+------------------+-----------------+------------+-----+------+------------+------------+--------------+--------------+------+\n",
      "|  x|age|workclass|fnlwgt|   education|educational-num|    marital-status|       occupation|relationship| race|gender|capital-gain|capital-loss|hours-per-week|native-country|income|\n",
      "+---+---+---------+------+------------+---------------+------------------+-----------------+------------+-----+------+------------+------------+--------------+--------------+------+\n",
      "|  1| 25|  Private|226802|        11th|              7|     Never-married|Machine-op-inspct|   Own-child|Black|  Male|           0|           0|            40| United-States| <=50K|\n",
      "|  2| 38|  Private| 89814|     HS-grad|              9|Married-civ-spouse|  Farming-fishing|     Husband|White|  Male|           0|           0|            50| United-States| <=50K|\n",
      "|  3| 28|Local-gov|336951|  Assoc-acdm|             12|Married-civ-spouse|  Protective-serv|     Husband|White|  Male|           0|           0|            40| United-States|  >50K|\n",
      "|  4| 44|  Private|160323|Some-college|             10|Married-civ-spouse|Machine-op-inspct|     Husband|Black|  Male|        7688|           0|            40| United-States|  >50K|\n",
      "|  5| 18|      NaN|103497|Some-college|             10|     Never-married|                ?|   Own-child|White|Female|           0|           0|            30| United-States| <=50K|\n",
      "+---+---+---------+------+------------+---------------+------------------+-----------------+------------+-----+------+------------+------------+--------------+--------------+------+\n",
      "only showing top 5 rows\n",
      "\n"
     ]
    }
   ],
   "source": [
    "df2.na.fill('Private').show(5)"
   ]
  },
  {
   "cell_type": "markdown",
   "id": "0d2fec3b",
   "metadata": {},
   "source": [
    "### Data preprocessing    \n",
    "\n",
    "Data processing is a critical step in machine learning. After you remove garbage data, you get some important insights.\n",
    "\n",
    "For instance, you know that age is not a linear function with the income. When people are young, their income is usually lower than mid-age. After retirement, a household uses their saving, meaning a decrease in income. To capture this pattern, you can add a square to the age feature\n",
    "\n",
    "Add age square\n",
    "\n",
    "To add a new feature, you need to:\n",
    "\n",
    "Select the column\n",
    "Apply the transformation and add it to the DataFrame"
   ]
  },
  {
   "attachments": {
    "image.png": {
     "image/png": "[encoded data removed]"
    }
   },
   "cell_type": "markdown",
   "id": "636bb6f6",
   "metadata": {},
   "source": [
    "![image.png](attachment:image.png)"
   ]
  },
  {
   "cell_type": "code",
   "execution_count": 40,
   "id": "dbb42b9b",
   "metadata": {},
   "outputs": [],
   "source": [
    "from pyspark.sql.functions import *"
   ]
  },
  {
   "cell_type": "code",
   "execution_count": null,
   "id": "d002e982",
   "metadata": {},
   "outputs": [],
   "source": [
    "df = df2_exp.withColumn(\"age_square\", col(\"age\")**2)"
   ]
  },
  {
   "cell_type": "code",
   "execution_count": null,
   "id": "9541c40e",
   "metadata": {
    "scrolled": true
   },
   "outputs": [],
   "source": [
    "df.show()"
   ]
  },
  {
   "cell_type": "markdown",
   "id": "aade59ee",
   "metadata": {},
   "source": [
    "You can see that age_square has been successfully added to the data frame. You can change the order of the variables with select. Below, you bring age_square right after age."
   ]
  },
  {
   "cell_type": "code",
   "execution_count": null,
   "id": "f4661129",
   "metadata": {},
   "outputs": [],
   "source": [
    "df.columns"
   ]
  },
  {
   "cell_type": "code",
   "execution_count": null,
   "id": "717a3e50",
   "metadata": {},
   "outputs": [],
   "source": [
    "from pyspark.sql.functions import col\n",
    "\n",
    "data = df.select(col(\"`marital.status`\").alias(\"marital\"),)\n",
    "data.show()"
   ]
  },
  {
   "cell_type": "code",
   "execution_count": null,
   "id": "ab22c6d6",
   "metadata": {},
   "outputs": [],
   "source": [
    "df.select('`marital.status`','age').show()"
   ]
  },
  {
   "cell_type": "code",
   "execution_count": null,
   "id": "9a6dbcbf",
   "metadata": {},
   "outputs": [],
   "source": [
    "df.drop('age_square').show(5)"
   ]
  },
  {
   "cell_type": "code",
   "execution_count": null,
   "id": "a4fafbba",
   "metadata": {},
   "outputs": [],
   "source": [
    "df.na.drop()"
   ]
  },
  {
   "cell_type": "code",
   "execution_count": null,
   "id": "518812f8",
   "metadata": {},
   "outputs": [],
   "source": [
    "df.crossJoin(df.select('`marital.status`')).select('age').show(5)"
   ]
  },
  {
   "cell_type": "code",
   "execution_count": null,
   "id": "59135ceb",
   "metadata": {},
   "outputs": [],
   "source": [
    "emp_details=[(1,'kiran',24,10000),(2,'jay',28,15000),(3,'matt',22,30000)]\n",
    "dept_ID=[(1,'A'),(1,'B'),(2,'A')]"
   ]
  },
  {
   "cell_type": "code",
   "execution_count": null,
   "id": "94d37eff",
   "metadata": {},
   "outputs": [],
   "source": [
    "emp_df=spark.createDataFrame(data=emp_details,schema=['Dept_id','Name','Age','Salary'])"
   ]
  },
  {
   "cell_type": "code",
   "execution_count": null,
   "id": "2368ed01",
   "metadata": {},
   "outputs": [],
   "source": [
    "dept_df=spark.createDataFrame(data=dept_ID,schema=['dept_id','dept_name'])"
   ]
  },
  {
   "cell_type": "code",
   "execution_count": null,
   "id": "5994b1ba",
   "metadata": {},
   "outputs": [],
   "source": [
    "emp_df.join(dept_df,on='dept_id',how='inner')"
   ]
  },
  {
   "cell_type": "code",
   "execution_count": null,
   "id": "e85eaa97",
   "metadata": {},
   "outputs": [],
   "source": [
    "emp_df.join(dept_df,emp_df.Dept_id==dept_df.dept_id,how='outer').select(emp_df.Dept_id,emp_df.Name,dept_df.dept_name).show(truncate=False)"
   ]
  },
  {
   "cell_type": "code",
   "execution_count": null,
   "id": "b960f4ff",
   "metadata": {},
   "outputs": [],
   "source": [
    "emp_df.union(emp_df).show(truncate=False)"
   ]
  },
  {
   "cell_type": "code",
   "execution_count": null,
   "id": "07cd65fa",
   "metadata": {},
   "outputs": [],
   "source": [
    "dept_df.unionAll(dept_df).show(truncate=False)"
   ]
  },
  {
   "cell_type": "markdown",
   "id": "f40a87fe",
   "metadata": {},
   "source": [
    "## Analytics"
   ]
  },
  {
   "cell_type": "markdown",
   "id": "16007505",
   "metadata": {},
   "source": [
    "#### Descriptive Analytics\n",
    "\n",
    "1. Summary Statistics \n",
    "2. Groupby \n",
    "3. Crosstab\n",
    "4. pivot table\n",
    "\n",
    "#### Predicitive Analytics\n",
    "\n",
    "1. Statistical Modelling\n",
    "2. Machine Learning\n"
   ]
  },
  {
   "cell_type": "markdown",
   "id": "84147727",
   "metadata": {},
   "source": [
    "### Crosstab computation\n",
    "In some occasion, it can be interesting to see the descriptive statistics between two pairwise columns. For instance, you can count the number of people with income below or above 50k by education level. This operation is called a crosstab."
   ]
  },
  {
   "cell_type": "code",
   "execution_count": 10,
   "id": "84459388",
   "metadata": {},
   "outputs": [
    {
     "data": {
      "text/plain": [
       "['x',\n",
       " 'age',\n",
       " 'workclass',\n",
       " 'fnlwgt',\n",
       " 'education',\n",
       " 'educational-num',\n",
       " 'marital-status',\n",
       " 'occupation',\n",
       " 'relationship',\n",
       " 'race',\n",
       " 'gender',\n",
       " 'capital-gain',\n",
       " 'capital-loss',\n",
       " 'hours-per-week',\n",
       " 'native-country',\n",
       " 'income']"
      ]
     },
     "execution_count": 10,
     "metadata": {},
     "output_type": "execute_result"
    }
   ],
   "source": [
    "df.columns"
   ]
  },
  {
   "cell_type": "code",
   "execution_count": 15,
   "id": "d84d77b6",
   "metadata": {},
   "outputs": [
    {
     "name": "stdout",
     "output_type": "stream",
     "text": [
      "+-------+------+\n",
      "|summary|income|\n",
      "+-------+------+\n",
      "|  count| 48842|\n",
      "|   mean|  null|\n",
      "| stddev|  null|\n",
      "|    min| <=50K|\n",
      "|    max|  >50K|\n",
      "+-------+------+\n",
      "\n"
     ]
    }
   ],
   "source": [
    "df[['income']].describe().show()"
   ]
  },
  {
   "cell_type": "code",
   "execution_count": 16,
   "id": "d1a0e9d9",
   "metadata": {},
   "outputs": [
    {
     "name": "stdout",
     "output_type": "stream",
     "text": [
      "+-------+------------------+\n",
      "|summary|                 x|\n",
      "+-------+------------------+\n",
      "|  count|             48842|\n",
      "|   mean|           24421.5|\n",
      "| stddev|14099.615260708357|\n",
      "|    min|                 1|\n",
      "|    max|              9999|\n",
      "+-------+------------------+\n",
      "\n",
      "+-------+------------------+\n",
      "|summary|               age|\n",
      "+-------+------------------+\n",
      "|  count|             48842|\n",
      "|   mean| 38.64358543876172|\n",
      "| stddev|13.710509934443472|\n",
      "|    min|                17|\n",
      "|    max|                90|\n",
      "+-------+------------------+\n",
      "\n",
      "+-------+-----------+\n",
      "|summary|  workclass|\n",
      "+-------+-----------+\n",
      "|  count|      48842|\n",
      "|   mean|       null|\n",
      "| stddev|       null|\n",
      "|    min|          ?|\n",
      "|    max|Without-pay|\n",
      "+-------+-----------+\n",
      "\n",
      "+-------+------------------+\n",
      "|summary|            fnlwgt|\n",
      "+-------+------------------+\n",
      "|  count|             48842|\n",
      "|   mean|189664.13459727284|\n",
      "| stddev| 105604.0254231574|\n",
      "|    min|            100009|\n",
      "|    max|             99987|\n",
      "+-------+------------------+\n",
      "\n",
      "+-------+------------+\n",
      "|summary|   education|\n",
      "+-------+------------+\n",
      "|  count|       48842|\n",
      "|   mean|        null|\n",
      "| stddev|        null|\n",
      "|    min|        10th|\n",
      "|    max|Some-college|\n",
      "+-------+------------+\n",
      "\n",
      "+-------+------------------+\n",
      "|summary|   educational-num|\n",
      "+-------+------------------+\n",
      "|  count|             48842|\n",
      "|   mean|10.078088530363212|\n",
      "| stddev| 2.570972755592249|\n",
      "|    min|                 1|\n",
      "|    max|                 9|\n",
      "+-------+------------------+\n",
      "\n",
      "+-------+--------------+\n",
      "|summary|marital-status|\n",
      "+-------+--------------+\n",
      "|  count|         48842|\n",
      "|   mean|          null|\n",
      "| stddev|          null|\n",
      "|    min|      Divorced|\n",
      "|    max|       Widowed|\n",
      "+-------+--------------+\n",
      "\n",
      "+-------+----------------+\n",
      "|summary|      occupation|\n",
      "+-------+----------------+\n",
      "|  count|           48842|\n",
      "|   mean|            null|\n",
      "| stddev|            null|\n",
      "|    min|               ?|\n",
      "|    max|Transport-moving|\n",
      "+-------+----------------+\n",
      "\n",
      "+-------+------------+\n",
      "|summary|relationship|\n",
      "+-------+------------+\n",
      "|  count|       48842|\n",
      "|   mean|        null|\n",
      "| stddev|        null|\n",
      "|    min|     Husband|\n",
      "|    max|        Wife|\n",
      "+-------+------------+\n",
      "\n",
      "+-------+------------------+\n",
      "|summary|              race|\n",
      "+-------+------------------+\n",
      "|  count|             48842|\n",
      "|   mean|              null|\n",
      "| stddev|              null|\n",
      "|    min|Amer-Indian-Eskimo|\n",
      "|    max|             White|\n",
      "+-------+------------------+\n",
      "\n",
      "+-------+------+\n",
      "|summary|gender|\n",
      "+-------+------+\n",
      "|  count| 48842|\n",
      "|   mean|  null|\n",
      "| stddev|  null|\n",
      "|    min|Female|\n",
      "|    max|  Male|\n",
      "+-------+------+\n",
      "\n",
      "+-------+------------------+\n",
      "|summary|      capital-gain|\n",
      "+-------+------------------+\n",
      "|  count|             48842|\n",
      "|   mean|1079.0676262233324|\n",
      "| stddev| 7452.019057655406|\n",
      "|    min|                 0|\n",
      "|    max|             99999|\n",
      "+-------+------------------+\n",
      "\n",
      "+-------+------------------+\n",
      "|summary|      capital-loss|\n",
      "+-------+------------------+\n",
      "|  count|             48842|\n",
      "|   mean| 87.50231358257237|\n",
      "| stddev|403.00455212435935|\n",
      "|    min|                 0|\n",
      "|    max|               974|\n",
      "+-------+------------------+\n",
      "\n",
      "+-------+------------------+\n",
      "|summary|    hours-per-week|\n",
      "+-------+------------------+\n",
      "|  count|             48842|\n",
      "|   mean|40.422382375824085|\n",
      "| stddev|12.391444024252278|\n",
      "|    min|                 1|\n",
      "|    max|                99|\n",
      "+-------+------------------+\n",
      "\n",
      "+-------+--------------+\n",
      "|summary|native-country|\n",
      "+-------+--------------+\n",
      "|  count|         48842|\n",
      "|   mean|          null|\n",
      "| stddev|          null|\n",
      "|    min|             ?|\n",
      "|    max|    Yugoslavia|\n",
      "+-------+--------------+\n",
      "\n",
      "+-------+------+\n",
      "|summary|income|\n",
      "+-------+------+\n",
      "|  count| 48842|\n",
      "|   mean|  null|\n",
      "| stddev|  null|\n",
      "|    min| <=50K|\n",
      "|    max|  >50K|\n",
      "+-------+------+\n",
      "\n"
     ]
    }
   ],
   "source": [
    "for x in df.columns:\n",
    "    df[[x]].describe().show()"
   ]
  },
  {
   "cell_type": "code",
   "execution_count": 17,
   "id": "b56784ac",
   "metadata": {},
   "outputs": [
    {
     "name": "stdout",
     "output_type": "stream",
     "text": [
      "+------------+-----+\n",
      "|   education|count|\n",
      "+------------+-----+\n",
      "|   Preschool|   83|\n",
      "|     1st-4th|  247|\n",
      "|     5th-6th|  509|\n",
      "|   Doctorate|  594|\n",
      "|        12th|  657|\n",
      "|         9th|  756|\n",
      "| Prof-school|  834|\n",
      "|     7th-8th|  955|\n",
      "|        10th| 1389|\n",
      "|  Assoc-acdm| 1601|\n",
      "|        11th| 1812|\n",
      "|   Assoc-voc| 2061|\n",
      "|     Masters| 2657|\n",
      "|   Bachelors| 8025|\n",
      "|Some-college|10878|\n",
      "|     HS-grad|15784|\n",
      "+------------+-----+\n",
      "\n"
     ]
    }
   ],
   "source": [
    "df.groupBy(\"education\").count().sort(\"count\",ascending=True).show()"
   ]
  },
  {
   "cell_type": "code",
   "execution_count": 20,
   "id": "3bd610b1",
   "metadata": {},
   "outputs": [
    {
     "name": "stdout",
     "output_type": "stream",
     "text": [
      "+---------------+-----+\n",
      "|educational-num|count|\n",
      "+---------------+-----+\n",
      "|              1|   83|\n",
      "|              2|  247|\n",
      "|              3|  509|\n",
      "|             16|  594|\n",
      "|              8|  657|\n",
      "|              5|  756|\n",
      "|             15|  834|\n",
      "|              4|  955|\n",
      "|              6| 1389|\n",
      "|             12| 1601|\n",
      "|              7| 1812|\n",
      "|             11| 2061|\n",
      "|             14| 2657|\n",
      "|             13| 8025|\n",
      "|             10|10878|\n",
      "|              9|15784|\n",
      "+---------------+-----+\n",
      "\n"
     ]
    }
   ],
   "source": [
    "df.groupBy(\"educational-num\").count().sort(\"count\",ascending=True).show()"
   ]
  },
  {
   "cell_type": "code",
   "execution_count": 21,
   "id": "a283f702",
   "metadata": {},
   "outputs": [
    {
     "name": "stdout",
     "output_type": "stream",
     "text": [
      "+--------------------+------------------+\n",
      "|      marital-status| avg(capital-gain)|\n",
      "+--------------------+------------------+\n",
      "|           Separated| 581.8424836601307|\n",
      "|       Never-married|  384.382639449029|\n",
      "|Married-spouse-ab...| 629.0047770700637|\n",
      "|            Divorced| 793.6755615860094|\n",
      "|             Widowed| 603.6442687747035|\n",
      "|   Married-AF-spouse|2971.6216216216217|\n",
      "|  Married-civ-spouse|1739.7006121810625|\n",
      "+--------------------+------------------+\n",
      "\n"
     ]
    }
   ],
   "source": [
    "df.groupBy('marital-status').agg({'capital-gain':'mean'}).show()"
   ]
  },
  {
   "cell_type": "code",
   "execution_count": 22,
   "id": "2bd691c1",
   "metadata": {},
   "outputs": [
    {
     "name": "stdout",
     "output_type": "stream",
     "text": [
      "+----------------+------------------+\n",
      "|       workclass| avg(capital-gain)|\n",
      "+----------------+------------------+\n",
      "|Self-emp-not-inc|1781.7446918694977|\n",
      "|       Local-gov| 798.2286352040817|\n",
      "|       State-gov| 756.3361938414942|\n",
      "|         Private| 896.1353742700408|\n",
      "|     Without-pay|325.23809523809524|\n",
      "|     Federal-gov| 923.2877094972067|\n",
      "|    Never-worked|               0.0|\n",
      "|               ?|502.94605216148625|\n",
      "|    Self-emp-inc| 5132.794100294986|\n",
      "+----------------+------------------+\n",
      "\n"
     ]
    }
   ],
   "source": [
    "df.groupBy('workclass').agg({'capital-gain':'mean'}).show()"
   ]
  },
  {
   "cell_type": "code",
   "execution_count": 25,
   "id": "e7d3418a",
   "metadata": {},
   "outputs": [
    {
     "name": "stdout",
     "output_type": "stream",
     "text": [
      "+--------------+------+------------------+\n",
      "|  relationship|gender| avg(capital-gain)|\n",
      "+--------------+------+------------------+\n",
      "|       Husband|Female|               0.0|\n",
      "|          Wife|Female|1660.9175257731958|\n",
      "|Other-relative|Female|207.42235123367198|\n",
      "|     Own-child|  Male|174.96504161712247|\n",
      "|     Own-child|Female|173.65462085308056|\n",
      "|       Husband|  Male|1774.5898047172204|\n",
      "|Other-relative|  Male| 258.2374541003672|\n",
      "|     Unmarried|Female|  349.632382892057|\n",
      "| Not-in-family|Female| 585.0044293015333|\n",
      "|          Wife|  Male|               0.0|\n",
      "| Not-in-family|  Male| 957.9374348279458|\n",
      "|     Unmarried|  Male| 783.0584795321637|\n",
      "+--------------+------+------------------+\n",
      "\n"
     ]
    }
   ],
   "source": [
    "df.groupBy(['relationship','gender']).agg({'capital-gain':'mean'}).show()"
   ]
  },
  {
   "cell_type": "code",
   "execution_count": 32,
   "id": "5a248be0",
   "metadata": {},
   "outputs": [
    {
     "name": "stdout",
     "output_type": "stream",
     "text": [
      "+------------------+------+-----+\n",
      "|    native-country|gender|count|\n",
      "+------------------+------+-----+\n",
      "|          Thailand|Female|   14|\n",
      "|             South|Female|   44|\n",
      "|          Honduras|  Male|    9|\n",
      "|             Japan|  Male|   61|\n",
      "|Dominican-Republic|  Male|   55|\n",
      "|          Honduras|Female|   11|\n",
      "|       Philippines|Female|  115|\n",
      "|       Puerto-Rico|Female|   75|\n",
      "|              Laos|Female|    9|\n",
      "|                 ?|Female|  248|\n",
      "|           Germany|Female|   87|\n",
      "|           Vietnam|Female|   30|\n",
      "|            Poland|  Male|   63|\n",
      "|           Ireland|  Male|   28|\n",
      "|       El-Salvador|  Male|  101|\n",
      "|           Jamaica|  Male|   48|\n",
      "|              Peru|  Male|   28|\n",
      "|             Italy|Female|   28|\n",
      "|            France|  Male|   24|\n",
      "|            Greece|  Male|   40|\n",
      "|            Canada|Female|   63|\n",
      "|              Iran|Female|   12|\n",
      "|             Haiti|  Male|   44|\n",
      "|              Cuba|Female|   50|\n",
      "|          Scotland|Female|    8|\n",
      "|           Vietnam|  Male|   56|\n",
      "|           England|Female|   45|\n",
      "|           Ecuador|  Male|   29|\n",
      "|           Hungary|Female|    7|\n",
      "|             India|  Male|  133|\n",
      "|              Iran|  Male|   47|\n",
      "|          Portugal|  Male|   53|\n",
      "|        Yugoslavia|  Male|   18|\n",
      "|            Greece|Female|    9|\n",
      "|          Cambodia|Female|    6|\n",
      "|            France|Female|   14|\n",
      "|             India|Female|   18|\n",
      "|         Nicaragua|  Male|   27|\n",
      "|           England|  Male|   82|\n",
      "|Holand-Netherlands|Female|    1|\n",
      "|           Ireland|Female|    9|\n",
      "|             Haiti|Female|   31|\n",
      "|   Trinadad&Tobago|  Male|   13|\n",
      "|            Taiwan|  Male|   46|\n",
      "|           Jamaica|Female|   58|\n",
      "|            Taiwan|Female|   19|\n",
      "|            Mexico|  Male|  736|\n",
      "|                 ?|  Male|  609|\n",
      "|          Cambodia|  Male|   22|\n",
      "|         Nicaragua|Female|   22|\n",
      "+------------------+------+-----+\n",
      "only showing top 50 rows\n",
      "\n"
     ]
    },
    {
     "ename": "AttributeError",
     "evalue": "'NoneType' object has no attribute 'sort'",
     "output_type": "error",
     "traceback": [
      "\u001b[1;31m---------------------------------------------------------------------------\u001b[0m",
      "\u001b[1;31mAttributeError\u001b[0m                            Traceback (most recent call last)",
      "\u001b[1;32m<ipython-input-32-f42da64aca54>\u001b[0m in \u001b[0;36m<module>\u001b[1;34m\u001b[0m\n\u001b[1;32m----> 1\u001b[1;33m \u001b[0mdf\u001b[0m\u001b[1;33m.\u001b[0m\u001b[0mgroupBy\u001b[0m\u001b[1;33m(\u001b[0m\u001b[1;33m[\u001b[0m\u001b[1;34m'native-country'\u001b[0m\u001b[1;33m,\u001b[0m\u001b[1;34m'gender'\u001b[0m\u001b[1;33m]\u001b[0m\u001b[1;33m)\u001b[0m\u001b[1;33m.\u001b[0m\u001b[0mcount\u001b[0m\u001b[1;33m(\u001b[0m\u001b[1;33m)\u001b[0m\u001b[1;33m.\u001b[0m\u001b[0mshow\u001b[0m\u001b[1;33m(\u001b[0m\u001b[1;36m50\u001b[0m\u001b[1;33m)\u001b[0m\u001b[1;33m.\u001b[0m\u001b[0msort\u001b[0m\u001b[1;33m(\u001b[0m\u001b[0mace\u001b[0m\u001b[1;33m(\u001b[0m\u001b[1;34m'native-country'\u001b[0m\u001b[1;33m)\u001b[0m\u001b[1;33m)\u001b[0m\u001b[1;33m\u001b[0m\u001b[1;33m\u001b[0m\u001b[0m\n\u001b[0m",
      "\u001b[1;31mAttributeError\u001b[0m: 'NoneType' object has no attribute 'sort'"
     ]
    }
   ],
   "source": [
    "df.groupBy(['native-country','gender']).count().show(50)"
   ]
  },
  {
   "cell_type": "code",
   "execution_count": 42,
   "id": "95e68ba3",
   "metadata": {},
   "outputs": [
    {
     "name": "stdout",
     "output_type": "stream",
     "text": [
      "+--------------------+---------------------+\n",
      "|      native-country|count(native-country)|\n",
      "+--------------------+---------------------+\n",
      "|  Holand-Netherlands|                    1|\n",
      "|             Hungary|                   19|\n",
      "|            Honduras|                   20|\n",
      "|            Scotland|                   21|\n",
      "|          Yugoslavia|                   23|\n",
      "|Outlying-US(Guam-...|                   23|\n",
      "|                Laos|                   23|\n",
      "|     Trinadad&Tobago|                   27|\n",
      "|            Cambodia|                   28|\n",
      "|                Hong|                   30|\n",
      "|            Thailand|                   30|\n",
      "|             Ireland|                   37|\n",
      "|              France|                   38|\n",
      "|             Ecuador|                   45|\n",
      "|                Peru|                   46|\n",
      "|              Greece|                   49|\n",
      "|           Nicaragua|                   49|\n",
      "|                Iran|                   59|\n",
      "|              Taiwan|                   65|\n",
      "|            Portugal|                   67|\n",
      "|               Haiti|                   75|\n",
      "|            Columbia|                   85|\n",
      "|             Vietnam|                   86|\n",
      "|              Poland|                   87|\n",
      "|           Guatemala|                   88|\n",
      "|               Japan|                   92|\n",
      "|  Dominican-Republic|                  103|\n",
      "|               Italy|                  105|\n",
      "|             Jamaica|                  106|\n",
      "|               South|                  115|\n",
      "|               China|                  122|\n",
      "|             England|                  127|\n",
      "|                Cuba|                  138|\n",
      "|               India|                  151|\n",
      "|         El-Salvador|                  155|\n",
      "|              Canada|                  182|\n",
      "|         Puerto-Rico|                  184|\n",
      "|             Germany|                  206|\n",
      "|         Philippines|                  295|\n",
      "|                   ?|                  857|\n",
      "|              Mexico|                  951|\n",
      "|       United-States|                43832|\n",
      "+--------------------+---------------------+\n",
      "\n"
     ]
    }
   ],
   "source": [
    "df.groupby('native-country').agg({'native-country': 'count'}).sort(asc(\"count(native-country)\")).show(50)"
   ]
  },
  {
   "cell_type": "code",
   "execution_count": 44,
   "id": "52baf378",
   "metadata": {},
   "outputs": [
    {
     "name": "stdout",
     "output_type": "stream",
     "text": [
      "+----------------+-----+----+\n",
      "|education_income|<=50K|>50K|\n",
      "+----------------+-----+----+\n",
      "|    Some-college| 8815|2063|\n",
      "|            10th| 1302|  87|\n",
      "|         1st-4th|  239|   8|\n",
      "|       Assoc-voc| 1539| 522|\n",
      "|       Preschool|   82|   1|\n",
      "|             9th|  715|  41|\n",
      "|         HS-grad|13281|2503|\n",
      "|         5th-6th|  482|  27|\n",
      "|         7th-8th|  893|  62|\n",
      "|            11th| 1720|  92|\n",
      "|         Masters| 1198|1459|\n",
      "|     Prof-school|  217| 617|\n",
      "|            12th|  609|  48|\n",
      "|       Doctorate|  163| 431|\n",
      "|       Bachelors| 4712|3313|\n",
      "|      Assoc-acdm| 1188| 413|\n",
      "+----------------+-----+----+\n",
      "\n"
     ]
    }
   ],
   "source": [
    "df.crosstab('education', 'income').show()"
   ]
  },
  {
   "cell_type": "code",
   "execution_count": 45,
   "id": "033097af",
   "metadata": {},
   "outputs": [
    {
     "name": "stdout",
     "output_type": "stream",
     "text": [
      "+------------------+------+----+\n",
      "|    native-country|Female|Male|\n",
      "+------------------+------+----+\n",
      "|       Philippines|   115| 180|\n",
      "|           Germany|    87| 119|\n",
      "|          Cambodia|     6|  22|\n",
      "|            France|    14|  24|\n",
      "|            Greece|     9|  40|\n",
      "|            Taiwan|    19|  46|\n",
      "|           Ecuador|    16|  29|\n",
      "|         Nicaragua|    22|  27|\n",
      "|              Hong|    11|  19|\n",
      "|              Peru|    18|  28|\n",
      "|             India|    18| 133|\n",
      "|             China|    33|  89|\n",
      "|             Italy|    28|  77|\n",
      "|Holand-Netherlands|     1|null|\n",
      "|              Cuba|    50|  88|\n",
      "|             South|    44|  71|\n",
      "|              Iran|    12|  47|\n",
      "|           Ireland|     9|  28|\n",
      "|          Thailand|    14|  16|\n",
      "|              Laos|     9|  14|\n",
      "+------------------+------+----+\n",
      "only showing top 20 rows\n",
      "\n"
     ]
    }
   ],
   "source": [
    "df.groupBy(['native-country']).pivot('gender').count().show()"
   ]
  },
  {
   "cell_type": "code",
   "execution_count": 47,
   "id": "2d819d7e",
   "metadata": {},
   "outputs": [
    {
     "name": "stdout",
     "output_type": "stream",
     "text": [
      "+--------------------+------+------+-----+\n",
      "|      native-country|income|Female| Male|\n",
      "+--------------------+------+------+-----+\n",
      "|          Yugoslavia|  >50K|     1|    7|\n",
      "|              Poland|  >50K|     2|   15|\n",
      "|            Columbia| <=50K|    32|   49|\n",
      "|              Poland| <=50K|    22|   48|\n",
      "|                Iran|  >50K|     2|   20|\n",
      "|               Haiti|  >50K|     1|    8|\n",
      "|            Thailand| <=50K|    13|   12|\n",
      "|       United-States|  >50K|  1613| 9081|\n",
      "|               Haiti| <=50K|    30|   36|\n",
      "|           Nicaragua|  >50K|     1|    2|\n",
      "|            Portugal| <=50K|    12|   43|\n",
      "|               Italy| <=50K|    23|   48|\n",
      "|                Laos|  >50K|     1|    1|\n",
      "|                Iran| <=50K|    10|   27|\n",
      "|             Jamaica| <=50K|    55|   36|\n",
      "|              Mexico| <=50K|   212|  692|\n",
      "|           Guatemala|  >50K|  null|    3|\n",
      "|              Canada|  >50K|    15|   48|\n",
      "|              Greece| <=50K|     6|   25|\n",
      "|              Taiwan|  >50K|     4|   22|\n",
      "|             Ireland| <=50K|     7|   19|\n",
      "|  Dominican-Republic| <=50K|    46|   52|\n",
      "|            Honduras| <=50K|    10|    8|\n",
      "|Outlying-US(Guam-...| <=50K|     9|   13|\n",
      "|         Puerto-Rico| <=50K|    71|   93|\n",
      "|            Portugal|  >50K|     2|   10|\n",
      "|          Yugoslavia| <=50K|     4|   11|\n",
      "|             Germany|  >50K|     9|   49|\n",
      "|               India| <=50K|    15|   74|\n",
      "|               Japan| <=50K|    25|   35|\n",
      "|               India|  >50K|     3|   59|\n",
      "|              France|  >50K|     3|   13|\n",
      "|               China|  >50K|     9|   27|\n",
      "|               South|  >50K|     3|   17|\n",
      "|             Ecuador|  >50K|  null|    6|\n",
      "|             Hungary| <=50K|     6|    7|\n",
      "|             Vietnam| <=50K|    29|   50|\n",
      "|       United-States| <=50K| 12996|20142|\n",
      "|              Taiwan| <=50K|    15|   24|\n",
      "|              Greece|  >50K|     3|   15|\n",
      "|                Hong| <=50K|    10|   12|\n",
      "|             England| <=50K|    34|   46|\n",
      "|            Cambodia| <=50K|     5|   14|\n",
      "|                Cuba| <=50K|    46|   58|\n",
      "|         El-Salvador| <=50K|    53|   91|\n",
      "|            Scotland|  >50K|     1|    2|\n",
      "|         Puerto-Rico|  >50K|     4|   16|\n",
      "|     Trinadad&Tobago|  >50K|  null|    2|\n",
      "|     Trinadad&Tobago| <=50K|    14|   11|\n",
      "|           Guatemala| <=50K|    26|   59|\n",
      "+--------------------+------+------+-----+\n",
      "only showing top 50 rows\n",
      "\n"
     ]
    }
   ],
   "source": [
    "df.groupBy(['native-country','income']).pivot('gender').count().show(50)"
   ]
  },
  {
   "cell_type": "code",
   "execution_count": 48,
   "id": "252f82b9",
   "metadata": {},
   "outputs": [
    {
     "data": {
      "text/plain": [
       "['x',\n",
       " 'age',\n",
       " 'workclass',\n",
       " 'fnlwgt',\n",
       " 'education',\n",
       " 'educational-num',\n",
       " 'marital-status',\n",
       " 'occupation',\n",
       " 'relationship',\n",
       " 'race',\n",
       " 'gender',\n",
       " 'capital-gain',\n",
       " 'capital-loss',\n",
       " 'hours-per-week',\n",
       " 'native-country',\n",
       " 'income']"
      ]
     },
     "execution_count": 48,
     "metadata": {},
     "output_type": "execute_result"
    }
   ],
   "source": [
    "df.columns"
   ]
  },
  {
   "cell_type": "code",
   "execution_count": 51,
   "id": "99c9359b",
   "metadata": {},
   "outputs": [
    {
     "data": {
      "text/plain": [
       "[('capital-gain', 'string')]"
      ]
     },
     "execution_count": 51,
     "metadata": {},
     "output_type": "execute_result"
    }
   ],
   "source": [
    "df[['capital-gain']].dtypes"
   ]
  },
  {
   "cell_type": "code",
   "execution_count": 59,
   "id": "051dfcb8",
   "metadata": {},
   "outputs": [
    {
     "data": {
      "text/plain": [
       "False"
      ]
     },
     "execution_count": 59,
     "metadata": {},
     "output_type": "execute_result"
    }
   ],
   "source": [
    "(df[['capital-gain']] == '?')"
   ]
  },
  {
   "cell_type": "code",
   "execution_count": 69,
   "id": "b1cdcbd6",
   "metadata": {},
   "outputs": [],
   "source": [
    "df1=df.withColumnRenamed('capital-gain','capitalgain').withColumnRenamed('hours-per-week','hoursperweek')\n",
    "                                        "
   ]
  },
  {
   "cell_type": "code",
   "execution_count": 70,
   "id": "298c2121",
   "metadata": {
    "scrolled": true
   },
   "outputs": [
    {
     "name": "stdout",
     "output_type": "stream",
     "text": [
      "+---+---+----------------+------+------------+---------------+------------------+-----------------+-------------+------------------+------+-----------+------------+------------+--------------+------+\n",
      "|  x|age|       workclass|fnlwgt|   education|educational-num|    marital-status|       occupation| relationship|              race|gender|capitalgain|capital-loss|hoursperweek|native-country|income|\n",
      "+---+---+----------------+------+------------+---------------+------------------+-----------------+-------------+------------------+------+-----------+------------+------------+--------------+------+\n",
      "|  1| 25|         Private|226802|        11th|              7|     Never-married|Machine-op-inspct|    Own-child|             Black|  Male|          0|           0|          40| United-States| <=50K|\n",
      "|  2| 38|         Private| 89814|     HS-grad|              9|Married-civ-spouse|  Farming-fishing|      Husband|             White|  Male|          0|           0|          50| United-States| <=50K|\n",
      "|  3| 28|       Local-gov|336951|  Assoc-acdm|             12|Married-civ-spouse|  Protective-serv|      Husband|             White|  Male|          0|           0|          40| United-States|  >50K|\n",
      "|  4| 44|         Private|160323|Some-college|             10|Married-civ-spouse|Machine-op-inspct|      Husband|             Black|  Male|       7688|           0|          40| United-States|  >50K|\n",
      "|  5| 18|               ?|103497|Some-college|             10|     Never-married|                ?|    Own-child|             White|Female|          0|           0|          30| United-States| <=50K|\n",
      "|  6| 34|         Private|198693|        10th|              6|     Never-married|    Other-service|Not-in-family|             White|  Male|          0|           0|          30| United-States| <=50K|\n",
      "|  7| 29|               ?|227026|     HS-grad|              9|     Never-married|                ?|    Unmarried|             Black|  Male|          0|           0|          40| United-States| <=50K|\n",
      "|  8| 63|Self-emp-not-inc|104626| Prof-school|             15|Married-civ-spouse|   Prof-specialty|      Husband|             White|  Male|       3103|           0|          32| United-States|  >50K|\n",
      "|  9| 24|         Private|369667|Some-college|             10|     Never-married|    Other-service|    Unmarried|             White|Female|          0|           0|          40| United-States| <=50K|\n",
      "| 10| 55|         Private|104996|     7th-8th|              4|Married-civ-spouse|     Craft-repair|      Husband|             White|  Male|          0|           0|          10| United-States| <=50K|\n",
      "| 11| 65|         Private|184454|     HS-grad|              9|Married-civ-spouse|Machine-op-inspct|      Husband|             White|  Male|       6418|           0|          40| United-States|  >50K|\n",
      "| 12| 36|     Federal-gov|212465|   Bachelors|             13|Married-civ-spouse|     Adm-clerical|      Husband|             White|  Male|          0|           0|          40| United-States| <=50K|\n",
      "| 13| 26|         Private| 82091|     HS-grad|              9|     Never-married|     Adm-clerical|Not-in-family|             White|Female|          0|           0|          39| United-States| <=50K|\n",
      "| 14| 58|               ?|299831|     HS-grad|              9|Married-civ-spouse|                ?|      Husband|             White|  Male|          0|           0|          35| United-States| <=50K|\n",
      "| 15| 48|         Private|279724|     HS-grad|              9|Married-civ-spouse|Machine-op-inspct|      Husband|             White|  Male|       3103|           0|          48| United-States|  >50K|\n",
      "| 16| 43|         Private|346189|     Masters|             14|Married-civ-spouse|  Exec-managerial|      Husband|             White|  Male|          0|           0|          50| United-States|  >50K|\n",
      "| 17| 20|       State-gov|444554|Some-college|             10|     Never-married|    Other-service|    Own-child|             White|  Male|          0|           0|          25| United-States| <=50K|\n",
      "| 18| 43|         Private|128354|     HS-grad|              9|Married-civ-spouse|     Adm-clerical|         Wife|             White|Female|          0|           0|          30| United-States| <=50K|\n",
      "| 19| 37|         Private| 60548|     HS-grad|              9|           Widowed|Machine-op-inspct|    Unmarried|             White|Female|          0|           0|          20| United-States| <=50K|\n",
      "| 20| 40|         Private| 85019|   Doctorate|             16|Married-civ-spouse|   Prof-specialty|      Husband|Asian-Pac-Islander|  Male|          0|           0|          45|             ?|  >50K|\n",
      "+---+---+----------------+------+------------+---------------+------------------+-----------------+-------------+------------------+------+-----------+------------+------------+--------------+------+\n",
      "only showing top 20 rows\n",
      "\n"
     ]
    }
   ],
   "source": [
    "df1.show()"
   ]
  },
  {
   "cell_type": "code",
   "execution_count": 73,
   "id": "8bfa9820",
   "metadata": {},
   "outputs": [],
   "source": [
    "df1=df1.withColumn('capitalgain',df1.capitalgain.cast('int'))"
   ]
  },
  {
   "cell_type": "code",
   "execution_count": 74,
   "id": "5ab12072",
   "metadata": {
    "scrolled": true
   },
   "outputs": [
    {
     "name": "stdout",
     "output_type": "stream",
     "text": [
      "+---+---+----------------+------+------------+---------------+------------------+-----------------+-------------+------------------+------+-----------+------------+------------+--------------+------+\n",
      "|  x|age|       workclass|fnlwgt|   education|educational-num|    marital-status|       occupation| relationship|              race|gender|capitalgain|capital-loss|hoursperweek|native-country|income|\n",
      "+---+---+----------------+------+------------+---------------+------------------+-----------------+-------------+------------------+------+-----------+------------+------------+--------------+------+\n",
      "|  1| 25|         Private|226802|        11th|              7|     Never-married|Machine-op-inspct|    Own-child|             Black|  Male|          0|           0|          40| United-States| <=50K|\n",
      "|  2| 38|         Private| 89814|     HS-grad|              9|Married-civ-spouse|  Farming-fishing|      Husband|             White|  Male|          0|           0|          50| United-States| <=50K|\n",
      "|  3| 28|       Local-gov|336951|  Assoc-acdm|             12|Married-civ-spouse|  Protective-serv|      Husband|             White|  Male|          0|           0|          40| United-States|  >50K|\n",
      "|  4| 44|         Private|160323|Some-college|             10|Married-civ-spouse|Machine-op-inspct|      Husband|             Black|  Male|       7688|           0|          40| United-States|  >50K|\n",
      "|  5| 18|               ?|103497|Some-college|             10|     Never-married|                ?|    Own-child|             White|Female|          0|           0|          30| United-States| <=50K|\n",
      "|  6| 34|         Private|198693|        10th|              6|     Never-married|    Other-service|Not-in-family|             White|  Male|          0|           0|          30| United-States| <=50K|\n",
      "|  7| 29|               ?|227026|     HS-grad|              9|     Never-married|                ?|    Unmarried|             Black|  Male|          0|           0|          40| United-States| <=50K|\n",
      "|  8| 63|Self-emp-not-inc|104626| Prof-school|             15|Married-civ-spouse|   Prof-specialty|      Husband|             White|  Male|       3103|           0|          32| United-States|  >50K|\n",
      "|  9| 24|         Private|369667|Some-college|             10|     Never-married|    Other-service|    Unmarried|             White|Female|          0|           0|          40| United-States| <=50K|\n",
      "| 10| 55|         Private|104996|     7th-8th|              4|Married-civ-spouse|     Craft-repair|      Husband|             White|  Male|          0|           0|          10| United-States| <=50K|\n",
      "| 11| 65|         Private|184454|     HS-grad|              9|Married-civ-spouse|Machine-op-inspct|      Husband|             White|  Male|       6418|           0|          40| United-States|  >50K|\n",
      "| 12| 36|     Federal-gov|212465|   Bachelors|             13|Married-civ-spouse|     Adm-clerical|      Husband|             White|  Male|          0|           0|          40| United-States| <=50K|\n",
      "| 13| 26|         Private| 82091|     HS-grad|              9|     Never-married|     Adm-clerical|Not-in-family|             White|Female|          0|           0|          39| United-States| <=50K|\n",
      "| 14| 58|               ?|299831|     HS-grad|              9|Married-civ-spouse|                ?|      Husband|             White|  Male|          0|           0|          35| United-States| <=50K|\n",
      "| 15| 48|         Private|279724|     HS-grad|              9|Married-civ-spouse|Machine-op-inspct|      Husband|             White|  Male|       3103|           0|          48| United-States|  >50K|\n",
      "| 16| 43|         Private|346189|     Masters|             14|Married-civ-spouse|  Exec-managerial|      Husband|             White|  Male|          0|           0|          50| United-States|  >50K|\n",
      "| 17| 20|       State-gov|444554|Some-college|             10|     Never-married|    Other-service|    Own-child|             White|  Male|          0|           0|          25| United-States| <=50K|\n",
      "| 18| 43|         Private|128354|     HS-grad|              9|Married-civ-spouse|     Adm-clerical|         Wife|             White|Female|          0|           0|          30| United-States| <=50K|\n",
      "| 19| 37|         Private| 60548|     HS-grad|              9|           Widowed|Machine-op-inspct|    Unmarried|             White|Female|          0|           0|          20| United-States| <=50K|\n",
      "| 20| 40|         Private| 85019|   Doctorate|             16|Married-civ-spouse|   Prof-specialty|      Husband|Asian-Pac-Islander|  Male|          0|           0|          45|             ?|  >50K|\n",
      "+---+---+----------------+------+------------+---------------+------------------+-----------------+-------------+------------------+------+-----------+------------+------------+--------------+------+\n",
      "only showing top 20 rows\n",
      "\n"
     ]
    }
   ],
   "source": [
    "df1.show()"
   ]
  },
  {
   "cell_type": "code",
   "execution_count": 78,
   "id": "b3ce35ec",
   "metadata": {},
   "outputs": [
    {
     "name": "stdout",
     "output_type": "stream",
     "text": [
      "+--------------------+------------------+------------------+\n",
      "|      native-country|            Female|              Male|\n",
      "+--------------------+------------------+------------------+\n",
      "|         Philippines|136.47826086956522|            2385.6|\n",
      "|             Germany|239.77011494252875|1663.2268907563025|\n",
      "|            Cambodia| 751.3333333333334| 682.7727272727273|\n",
      "|              France| 957.2142857142857|           102.625|\n",
      "|              Greece| 1168.888888888889|          1123.025|\n",
      "|              Taiwan|115.89473684210526| 2705.586956521739|\n",
      "|             Ecuador|           128.875| 438.3103448275862|\n",
      "|           Nicaragua| 308.8181818181818|               0.0|\n",
      "|                Hong|               0.0| 790.7368421052631|\n",
      "|                Peru|101.72222222222223|               0.0|\n",
      "|               India| 537.1666666666666| 3556.285714285714|\n",
      "|               China|               0.0|1929.7078651685392|\n",
      "|               Italy| 78.64285714285714|1059.4415584415585|\n",
      "|  Holand-Netherlands|               0.0|              null|\n",
      "|                Cuba|            358.62| 534.1363636363636|\n",
      "|               South|341.45454545454544|2506.6197183098593|\n",
      "|                Iran|            1252.0|1550.9787234042553|\n",
      "|             Ireland|               0.0| 653.8214285714286|\n",
      "|            Thailand|               0.0|           456.125|\n",
      "|                Laos|               0.0|206.07142857142858|\n",
      "|         El-Salvador| 98.38888888888889| 550.1485148514852|\n",
      "|              Mexico|25.390697674418604| 530.0461956521739|\n",
      "|           Guatemala|               0.0| 238.2741935483871|\n",
      "|            Honduras|               0.0|167.33333333333334|\n",
      "|          Yugoslavia|             665.0| 986.2222222222222|\n",
      "|         Puerto-Rico|114.21333333333334| 487.5045871559633|\n",
      "|             Jamaica|242.77586206896552| 801.7916666666666|\n",
      "|              Canada|2027.3174603174602| 813.2521008403361|\n",
      "|  Dominican-Republic|2152.5833333333335|114.81818181818181|\n",
      "|       United-States| 589.3413649120405|1339.7263114669952|\n",
      "|Outlying-US(Guam-...|               0.0|               0.0|\n",
      "|               Japan| 331.7741935483871|2658.6393442622953|\n",
      "|             England|1423.8666666666666| 885.9512195121952|\n",
      "|               Haiti|               0.0| 507.3181818181818|\n",
      "|              Poland|               0.0| 651.6984126984127|\n",
      "|            Portugal|             322.0| 172.0754716981132|\n",
      "|                   ?| 1217.850806451613|1970.8686371100164|\n",
      "|            Columbia|               0.0| 201.0566037735849|\n",
      "|            Scotland|            647.25|               0.0|\n",
      "|             Hungary|             264.0| 622.3333333333334|\n",
      "|             Vietnam|               0.0| 928.8035714285714|\n",
      "|     Trinadad&Tobago|               0.0|241.30769230769232|\n",
      "+--------------------+------------------+------------------+\n",
      "\n"
     ]
    }
   ],
   "source": [
    "df1.groupBy(['native-country']).pivot('gender').mean('capitalgain').show(50)"
   ]
  },
  {
   "cell_type": "code",
   "execution_count": null,
   "id": "91e3c313",
   "metadata": {},
   "outputs": [],
   "source": [
    "df.groupBy(['native-country',]).pivot('capital-gain').sum().show()"
   ]
  },
  {
   "cell_type": "code",
   "execution_count": null,
   "id": "936ececb",
   "metadata": {},
   "outputs": [],
   "source": []
  },
  {
   "cell_type": "markdown",
   "id": "852fee9d",
   "metadata": {},
   "source": [
    "### Exclude Holand-Netherlands\n",
    "\n",
    "When a group within a feature has only one observation, it brings no information to the model. On the contrary, it can lead to an error during the cross-validation.\n",
    "\n",
    "Let's check the origin of the household"
   ]
  },
  {
   "cell_type": "code",
   "execution_count": null,
   "id": "1410411a",
   "metadata": {},
   "outputs": [],
   "source": [
    "df.filter('native.country == Holand-Netherlands').count()\n",
    "df.groupby('native.country').agg({'native.country': 'count'}).sort(asc(\"count(native.country)\")).show()"
   ]
  },
  {
   "cell_type": "code",
   "execution_count": null,
   "id": "bee748ca",
   "metadata": {},
   "outputs": [],
   "source": []
  }
 ],
 "metadata": {
  "kernelspec": {
   "display_name": "Python 3",
   "language": "python",
   "name": "python3"
  },
  "language_info": {
   "codemirror_mode": {
    "name": "ipython",
    "version": 3
   },
   "file_extension": ".py",
   "mimetype": "text/x-python",
   "name": "python",
   "nbconvert_exporter": "python",
   "pygments_lexer": "ipython3",
   "version": "3.7.9"
  }
 },
 "nbformat": 4,
 "nbformat_minor": 5
}
